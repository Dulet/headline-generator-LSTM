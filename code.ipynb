{
 "cells": [
  {
   "cell_type": "code",
   "execution_count": 20,
   "metadata": {},
   "outputs": [
    {
     "data": {
      "text/plain": [
       "9335"
      ]
     },
     "execution_count": 20,
     "metadata": {},
     "output_type": "execute_result"
    }
   ],
   "source": [
    "import os\n",
    "import pandas as pd\n",
    "\n",
    "dir = \"data/\"\n",
    "\n",
    "headlines = []\n",
    "for filename in os.listdir(dir):\n",
    "    if \"Articles\" in filename:\n",
    "        headlines_df = pd.read_csv(dir + filename)\n",
    "        headlines.extend(list(headlines_df.headline.values))\n",
    "len(headlines)"
   ]
  },
  {
   "cell_type": "markdown",
   "metadata": {},
   "source": [
    "Usuwamy nagłówki które mają w tekscie \"Unknown\""
   ]
  },
  {
   "cell_type": "code",
   "execution_count": 21,
   "metadata": {},
   "outputs": [
    {
     "data": {
      "text/plain": [
       "8603"
      ]
     },
     "execution_count": 21,
     "metadata": {},
     "output_type": "execute_result"
    }
   ],
   "source": [
    "headlines = [a for a in headlines if a != \"Unknown\"]\n",
    "len(headlines)"
   ]
  },
  {
   "cell_type": "markdown",
   "metadata": {},
   "source": [
    "Tokenizacja - przypisujemy każdemu unikalnemu słowu liczbę tak aby model zrozumiał jak reprezentować słowa"
   ]
  },
  {
   "cell_type": "code",
   "execution_count": 22,
   "metadata": {},
   "outputs": [
    {
     "name": "stdout",
     "output_type": "stream",
     "text": [
      "Total words:  11753\n"
     ]
    }
   ],
   "source": [
    "from tensorflow.keras.preprocessing.text import Tokenizer\n",
    "\n",
    "tokenizer = Tokenizer()\n",
    "tokenizer.fit_on_texts(headlines)\n",
    "total_words = len(tokenizer.word_index) + 1\n",
    "print('Total words: ', total_words)"
   ]
  },
  {
   "cell_type": "code",
   "execution_count": 23,
   "metadata": {},
   "outputs": [
    {
     "name": "stdout",
     "output_type": "stream",
     "text": [
      "{'a': 2, 'trump': 10, 'i': 30, 'canal': 7144}\n"
     ]
    }
   ],
   "source": [
    "# sprawdzamy jak są zapisywane słowa\n",
    "dict = {key: value for key, value in tokenizer.word_index.items()\n",
    "               if key in ['a','i','a','bike','a','canal','trump']}\n",
    "print(dict)"
   ]
  },
  {
   "cell_type": "markdown",
   "metadata": {},
   "source": [
    "Konwersja danych do sekwencji"
   ]
  },
  {
   "cell_type": "code",
   "execution_count": 33,
   "metadata": {},
   "outputs": [
    {
     "name": "stdout",
     "output_type": "stream",
     "text": [
      "['finding an', 'finding an expansive', 'finding an expansive view', 'finding an expansive view of', 'finding an expansive view of a', 'finding an expansive view of a forgotten', 'finding an expansive view of a forgotten people', 'finding an expansive view of a forgotten people in', 'finding an expansive view of a forgotten people in niger', 'and now']\n"
     ]
    },
    {
     "data": {
      "text/plain": [
       "[[403, 17],\n",
       " [403, 17, 5242],\n",
       " [403, 17, 5242, 543],\n",
       " [403, 17, 5242, 543, 4],\n",
       " [403, 17, 5242, 543, 4, 2],\n",
       " [403, 17, 5242, 543, 4, 2, 1616],\n",
       " [403, 17, 5242, 543, 4, 2, 1616, 151],\n",
       " [403, 17, 5242, 543, 4, 2, 1616, 151, 5],\n",
       " [403, 17, 5242, 543, 4, 2, 1616, 151, 5, 1992],\n",
       " [7, 76]]"
      ]
     },
     "execution_count": 33,
     "metadata": {},
     "output_type": "execute_result"
    }
   ],
   "source": [
    "sequences = []\n",
    "for line in headlines:\n",
    "   # konwersja naszych nagłówków do sekwencji tokenów\n",
    "    token_list = tokenizer.texts_to_sequences([line])[0]\n",
    "    \n",
    "    # tworzenie sekwencji dla każdego nagłówka\n",
    "    for i in range(1, len(token_list)):\n",
    "        partial_sequence = token_list[:i+1]\n",
    "        sequences.append(partial_sequence)\n",
    "\n",
    "print(tokenizer.sequences_to_texts(sequences[:10]))\n",
    "sequences[:10]"
   ]
  },
  {
   "cell_type": "code",
   "execution_count": 37,
   "metadata": {},
   "outputs": [
    {
     "data": {
      "text/plain": [
       "array([   0,    0,    0,    0,    0,    0,    0,    0,    0,    0,    0,\n",
       "          0,    0,    0,    0,    0,    0,    0,    0,    0,    0,  403,\n",
       "         17, 5242,  543,    4,    2, 1616])"
      ]
     },
     "execution_count": 37,
     "metadata": {},
     "output_type": "execute_result"
    }
   ],
   "source": [
    "# dopełniamy sekwencje - tworzymy array z najdłuższą sekwencją słów (najdłuższym artykułem)\n",
    "\n",
    "from tensorflow.keras.preprocessing.sequence import pad_sequences\n",
    "import numpy as np\n",
    "\n",
    "max_sequence_len = max([len(x) for x in sequences])\n",
    "\n",
    "input_sequences = np.array(pad_sequences(sequences, maxlen=max_sequence_len, padding='pre'))\n",
    "input_sequences[5]"
   ]
  },
  {
   "cell_type": "markdown",
   "metadata": {},
   "source": [
    "Tworzenie predykcji oraz celu"
   ]
  },
  {
   "cell_type": "code",
   "execution_count": 44,
   "metadata": {},
   "outputs": [],
   "source": [
    "# predyktory to każde słowa oprócz ostatniego\n",
    "predictors = input_sequences[:,:-1]\n",
    "# etykiety to ostatnie słowa\n",
    "labels = input_sequences[:,-1]\n",
    "labels[:5]\n",
    "\n",
    "from tensorflow.keras import utils\n",
    "labels = utils.to_categorical(labels, num_classes=total_words)"
   ]
  },
  {
   "cell_type": "markdown",
   "metadata": {},
   "source": [
    "Tworzenie modelu LSTM"
   ]
  },
  {
   "cell_type": "code",
   "execution_count": 45,
   "metadata": {},
   "outputs": [],
   "source": [
    "from tensorflow.keras.layers import Embedding, LSTM, Dense, Dropout\n",
    "from tensorflow.keras.models import Sequential\n",
    "\n",
    "# nasz input to wszystkie słowa oprócz ostatniego\n",
    "input_len = max_sequence_len - 1 \n",
    "\n",
    "model = Sequential()\n",
    "\n",
    "# embedding layer\n",
    "model.add(Embedding(total_words, 10, input_length=input_len))\n",
    "\n",
    "# Add LSTM layer with 100 units\n",
    "model.add(LSTM(100))\n",
    "model.add(Dropout(0.1))\n",
    "\n",
    "# Add output layer\n",
    "model.add(Dense(total_words, activation='softmax'))"
   ]
  },
  {
   "cell_type": "code",
   "execution_count": 46,
   "metadata": {},
   "outputs": [
    {
     "name": "stdout",
     "output_type": "stream",
     "text": [
      "Model: \"sequential\"\n",
      "_________________________________________________________________\n",
      " Layer (type)                Output Shape              Param #   \n",
      "=================================================================\n",
      " embedding (Embedding)       (None, 27, 10)            117530    \n",
      "                                                                 \n",
      " lstm (LSTM)                 (None, 100)               44400     \n",
      "                                                                 \n",
      " dropout (Dropout)           (None, 100)               0         \n",
      "                                                                 \n",
      " dense (Dense)               (None, 11753)             1187053   \n",
      "                                                                 \n",
      "=================================================================\n",
      "Total params: 1,348,983\n",
      "Trainable params: 1,348,983\n",
      "Non-trainable params: 0\n",
      "_________________________________________________________________\n"
     ]
    }
   ],
   "source": [
    "model.summary()"
   ]
  },
  {
   "cell_type": "markdown",
   "metadata": {},
   "source": [
    "Kompilowanie modelu"
   ]
  },
  {
   "cell_type": "code",
   "execution_count": 47,
   "metadata": {},
   "outputs": [],
   "source": [
    "model.compile(loss='categorical_crossentropy', optimizer='adam')"
   ]
  },
  {
   "cell_type": "markdown",
   "metadata": {},
   "source": [
    "Trenowanie modelu (30 epok)"
   ]
  },
  {
   "cell_type": "code",
   "execution_count": 48,
   "metadata": {},
   "outputs": [
    {
     "name": "stdout",
     "output_type": "stream",
     "text": [
      "Epoch 1/30\n",
      "1666/1666 [==============================] - 40s 23ms/step - loss: 7.8893 1s - loss: 7.8 \n",
      "Epoch 2/30\n",
      "1666/1666 [==============================] - 37s 22ms/step - loss: 7.4717\n",
      "Epoch 3/30\n",
      "1666/1666 [==============================] - 32s 19ms/step - loss: 7.2717\n",
      "Epoch 4/30\n",
      "1666/1666 [==============================] - 30s 18ms/step - loss: 7.0527\n",
      "Epoch 5/30\n",
      "1666/1666 [==============================] - 29s 18ms/step - loss: 6.8190\n",
      "Epoch 6/30\n",
      "1666/1666 [==============================] - 28s 17ms/step - loss: 6.5714 0s - loss: 6.\n",
      "Epoch 7/30\n",
      "1666/1666 [==============================] - 30s 18ms/step - loss: 6.3171 6s - loss: 6.304 -\n",
      "Epoch 8/30\n",
      "1666/1666 [==============================] - 31s 18ms/step - loss: 6.0631\n",
      "Epoch 9/30\n",
      "1666/1666 [==============================] - 32s 19ms/step - loss: 5.8185\n",
      "Epoch 10/30\n",
      "1666/1666 [==============================] - 30s 18ms/step - loss: 5.5774\n",
      "Epoch 11/30\n",
      "1666/1666 [==============================] - 31s 19ms/step - loss: 5.3514\n",
      "Epoch 12/30\n",
      "1666/1666 [==============================] - 33s 20ms/step - loss: 5.1421\n",
      "Epoch 13/30\n",
      "1666/1666 [==============================] - 32s 19ms/step - loss: 4.9402\n",
      "Epoch 14/30\n",
      "1666/1666 [==============================] - 33s 20ms/step - loss: 4.7491\n",
      "Epoch 15/30\n",
      "1666/1666 [==============================] - 32s 19ms/step - loss: 4.5738 0s - loss: 4.573\n",
      "Epoch 16/30\n",
      "1666/1666 [==============================] - 32s 19ms/step - loss: 4.4069\n",
      "Epoch 17/30\n",
      "1666/1666 [==============================] - 31s 19ms/step - loss: 4.2503\n",
      "Epoch 18/30\n",
      "1666/1666 [==============================] - 30s 18ms/step - loss: 4.1049\n",
      "Epoch 19/30\n",
      "1666/1666 [==============================] - 31s 18ms/step - loss: 3.9703\n",
      "Epoch 20/30\n",
      "1666/1666 [==============================] - 32s 19ms/step - loss: 3.8371\n",
      "Epoch 21/30\n",
      "1666/1666 [==============================] - 31s 18ms/step - loss: 3.7200\n",
      "Epoch 22/30\n",
      "1666/1666 [==============================] - 30s 18ms/step - loss: 3.6094\n",
      "Epoch 23/30\n",
      "1666/1666 [==============================] - 30s 18ms/step - loss: 3.5030\n",
      "Epoch 24/30\n",
      "1666/1666 [==============================] - 30s 18ms/step - loss: 3.4024\n",
      "Epoch 25/30\n",
      "1666/1666 [==============================] - 31s 18ms/step - loss: 3.3141\n",
      "Epoch 26/30\n",
      "1666/1666 [==============================] - 29s 18ms/step - loss: 3.2258\n",
      "Epoch 27/30\n",
      "1666/1666 [==============================] - 31s 19ms/step - loss: 3.1510\n",
      "Epoch 28/30\n",
      "1666/1666 [==============================] - 34s 21ms/step - loss: 3.0678\n",
      "Epoch 29/30\n",
      "1666/1666 [==============================] - 31s 19ms/step - loss: 2.9977ETA: 2s -  - ETA - ETA: 0s - loss:\n",
      "Epoch 30/30\n",
      "1666/1666 [==============================] - 30s 18ms/step - loss: 2.9325\n"
     ]
    },
    {
     "data": {
      "text/plain": [
       "<keras.callbacks.History at 0x2651f721af0>"
      ]
     },
     "execution_count": 48,
     "metadata": {},
     "output_type": "execute_result"
    }
   ],
   "source": [
    "model.fit(predictors, labels, epochs=30, verbose=1)"
   ]
  },
  {
   "cell_type": "markdown",
   "metadata": {},
   "source": [
    "Tworzenie predykcji"
   ]
  },
  {
   "cell_type": "code",
   "execution_count": 57,
   "metadata": {},
   "outputs": [],
   "source": [
    "def predict(seed_text):\n",
    "    token_list = tokenizer.texts_to_sequences([seed_text])[0]\n",
    "    token_list = pad_sequences([token_list], maxlen=max_sequence_len-1, padding='pre')\n",
    "    prediction = np.argmax(model.predict(token_list),axis=1)\n",
    "    return prediction"
   ]
  },
  {
   "cell_type": "code",
   "execution_count": 58,
   "metadata": {},
   "outputs": [
    {
     "data": {
      "text/plain": [
       "array([122], dtype=int64)"
      ]
     },
     "execution_count": 58,
     "metadata": {},
     "output_type": "execute_result"
    }
   ],
   "source": [
    "prediction = predict(\"today in new york\")\n",
    "prediction"
   ]
  },
  {
   "cell_type": "code",
   "execution_count": 60,
   "metadata": {},
   "outputs": [
    {
     "data": {
      "text/plain": [
       "['could']"
      ]
     },
     "execution_count": 60,
     "metadata": {},
     "output_type": "execute_result"
    }
   ],
   "source": [
    "# dekodowanie liczby na słowo\n",
    "tokenizer.sequences_to_texts([prediction])"
   ]
  },
  {
   "cell_type": "markdown",
   "metadata": {},
   "source": [
    "Generowanie nowych nagłówków"
   ]
  },
  {
   "cell_type": "code",
   "execution_count": 79,
   "metadata": {},
   "outputs": [],
   "source": [
    "def generate_headline(seed_text, next_words=1):\n",
    "    for _ in range(next_words):\n",
    "        prediction = predict(seed_text)\n",
    "        next_word = tokenizer.sequences_to_texts([prediction])[0]\n",
    "        seed_text += \" \" + next_word\n",
    "    return seed_text.title()"
   ]
  },
  {
   "cell_type": "code",
   "execution_count": 80,
   "metadata": {},
   "outputs": [
    {
     "name": "stdout",
     "output_type": "stream",
     "text": [
      "Washington Americans Is ‘Hooked’ On\n",
      "New York Today A Bookbinder’S Craft\n",
      "The School And A Mighty Block\n",
      "Crime Has Threaten Republicans’ A Lie\n",
      "Kraków A New Nation Cracking\n",
      "Poland And Contracts Season 1\n"
     ]
    }
   ],
   "source": [
    "seed_texts = [\n",
    "    'washington',\n",
    "    'new york',\n",
    "    'the school',\n",
    "    'crime has',\n",
    "    'kraków',\n",
    "    'Poland']\n",
    "for seed in seed_texts:\n",
    "    print(generate_headline(seed, next_words=4))"
   ]
  }
 ],
 "metadata": {
  "kernelspec": {
   "display_name": "Python 3.9.0 64-bit",
   "language": "python",
   "name": "python3"
  },
  "language_info": {
   "codemirror_mode": {
    "name": "ipython",
    "version": 3
   },
   "file_extension": ".py",
   "mimetype": "text/x-python",
   "name": "python",
   "nbconvert_exporter": "python",
   "pygments_lexer": "ipython3",
   "version": "3.9.0"
  },
  "orig_nbformat": 4,
  "vscode": {
   "interpreter": {
    "hash": "840d09009c0a1a651e4829b5e6f3b9a6834daa9b12808480478c25705ec2013e"
   }
  }
 },
 "nbformat": 4,
 "nbformat_minor": 2
}
